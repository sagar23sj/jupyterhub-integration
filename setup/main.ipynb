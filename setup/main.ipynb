{
 "cells": [
  {
   "cell_type": "code",
   "execution_count": null,
   "id": "7d5dc1ee",
   "metadata": {},
   "outputs": [],
   "source": [
    "# Set the env vars accrodingly before running the test\n",
    "#%set_env DP_PASSWORD = example_password_string\n",
    "%set_env DP_PASSWORD = \"Replace string with your password & don't use quotes\"\n",
    "%set_env DISTRIBUTED_EXECUTION = true\n",
    "%set_env PARTITION_PRUNING = true\n",
    "%set_env USE_NEW_METASTORE_API = false\n",
    "%run setup.py"
   ]
  }
 ],
 "metadata": {
  "kernelspec": {
   "display_name": "Python 3 (ipykernel)",
   "language": "python",
   "name": "python3"
  },
  "language_info": {
   "codemirror_mode": {
    "name": "ipython",
    "version": 3
   },
   "file_extension": ".py",
   "mimetype": "text/x-python",
   "name": "python",
   "nbconvert_exporter": "python",
   "pygments_lexer": "ipython3",
   "version": "3.10.12"
  },
  "vscode": {
   "interpreter": {
    "hash": "31f2aee4e71d21fbe5cf8b01ff0e069b9275f58929596ceb00d14d90e3e16cd6"
   }
  }
 },
 "nbformat": 4,
 "nbformat_minor": 5
}
